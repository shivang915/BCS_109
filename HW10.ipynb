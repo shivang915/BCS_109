{
  "nbformat": 4,
  "nbformat_minor": 0,
  "metadata": {
    "colab": {
      "name": "HW10",
      "provenance": [],
      "authorship_tag": "ABX9TyOwd5mPMM/imNDFRuayljf3",
      "include_colab_link": true
    },
    "kernelspec": {
      "name": "python3",
      "display_name": "Python 3"
    }
  },
  "cells": [
    {
      "cell_type": "markdown",
      "metadata": {
        "id": "view-in-github",
        "colab_type": "text"
      },
      "source": [
        "<a href=\"https://colab.research.google.com/github/shivang915/BCS_109/blob/master/HW10.ipynb\" target=\"_parent\"><img src=\"https://colab.research.google.com/assets/colab-badge.svg\" alt=\"Open In Colab\"/></a>"
      ]
    },
    {
      "cell_type": "code",
      "metadata": {
        "id": "q6GkL2PcJMc3",
        "outputId": "23a536e1-1629-4603-9d0d-5a29c3d533d6",
        "colab": {
          "base_uri": "https://localhost:8080/",
          "height": 309
        }
      },
      "source": [
        "import pandas as pd\n",
        "import numpy as np\n",
        "import matplotlib.pyplot as plt\n",
        "import missingno as msno\n",
        "import seaborn as sns\n",
        "\n",
        "df = pd.read_csv(\"https://raw.githubusercontent.com/fivethirtyeight/data/master/us-weather-history/KMDW.csv\")\n",
        "df.head()\n",
        "\n",
        "\n",
        "\n"
      ],
      "execution_count": 7,
      "outputs": [
        {
          "output_type": "execute_result",
          "data": {
            "text/html": [
              "<div>\n",
              "<style scoped>\n",
              "    .dataframe tbody tr th:only-of-type {\n",
              "        vertical-align: middle;\n",
              "    }\n",
              "\n",
              "    .dataframe tbody tr th {\n",
              "        vertical-align: top;\n",
              "    }\n",
              "\n",
              "    .dataframe thead th {\n",
              "        text-align: right;\n",
              "    }\n",
              "</style>\n",
              "<table border=\"1\" class=\"dataframe\">\n",
              "  <thead>\n",
              "    <tr style=\"text-align: right;\">\n",
              "      <th></th>\n",
              "      <th>date</th>\n",
              "      <th>actual_mean_temp</th>\n",
              "      <th>actual_min_temp</th>\n",
              "      <th>actual_max_temp</th>\n",
              "      <th>average_min_temp</th>\n",
              "      <th>average_max_temp</th>\n",
              "      <th>record_min_temp</th>\n",
              "      <th>record_max_temp</th>\n",
              "      <th>record_min_temp_year</th>\n",
              "      <th>record_max_temp_year</th>\n",
              "      <th>actual_precipitation</th>\n",
              "      <th>average_precipitation</th>\n",
              "      <th>record_precipitation</th>\n",
              "    </tr>\n",
              "  </thead>\n",
              "  <tbody>\n",
              "    <tr>\n",
              "      <th>0</th>\n",
              "      <td>2014-7-1</td>\n",
              "      <td>76</td>\n",
              "      <td>68</td>\n",
              "      <td>84</td>\n",
              "      <td>67</td>\n",
              "      <td>84</td>\n",
              "      <td>49</td>\n",
              "      <td>103</td>\n",
              "      <td>1982.0</td>\n",
              "      <td>1956.0</td>\n",
              "      <td>0.04</td>\n",
              "      <td>0.11</td>\n",
              "      <td>1.23</td>\n",
              "    </tr>\n",
              "    <tr>\n",
              "      <th>1</th>\n",
              "      <td>2014-7-2</td>\n",
              "      <td>66</td>\n",
              "      <td>58</td>\n",
              "      <td>74</td>\n",
              "      <td>67</td>\n",
              "      <td>84</td>\n",
              "      <td>48</td>\n",
              "      <td>99</td>\n",
              "      <td>1930.0</td>\n",
              "      <td>1970.0</td>\n",
              "      <td>0.12</td>\n",
              "      <td>0.10</td>\n",
              "      <td>2.50</td>\n",
              "    </tr>\n",
              "    <tr>\n",
              "      <th>2</th>\n",
              "      <td>2014-7-3</td>\n",
              "      <td>66</td>\n",
              "      <td>57</td>\n",
              "      <td>75</td>\n",
              "      <td>67</td>\n",
              "      <td>84</td>\n",
              "      <td>50</td>\n",
              "      <td>102</td>\n",
              "      <td>1940.0</td>\n",
              "      <td>1949.0</td>\n",
              "      <td>0.05</td>\n",
              "      <td>0.11</td>\n",
              "      <td>1.38</td>\n",
              "    </tr>\n",
              "    <tr>\n",
              "      <th>3</th>\n",
              "      <td>2014-7-4</td>\n",
              "      <td>70</td>\n",
              "      <td>60</td>\n",
              "      <td>79</td>\n",
              "      <td>67</td>\n",
              "      <td>84</td>\n",
              "      <td>49</td>\n",
              "      <td>101</td>\n",
              "      <td>1940.0</td>\n",
              "      <td>2012.0</td>\n",
              "      <td>0.00</td>\n",
              "      <td>0.11</td>\n",
              "      <td>0.94</td>\n",
              "    </tr>\n",
              "    <tr>\n",
              "      <th>4</th>\n",
              "      <td>2014-7-5</td>\n",
              "      <td>71</td>\n",
              "      <td>63</td>\n",
              "      <td>79</td>\n",
              "      <td>67</td>\n",
              "      <td>84</td>\n",
              "      <td>46</td>\n",
              "      <td>103</td>\n",
              "      <td>1972.0</td>\n",
              "      <td>2012.0</td>\n",
              "      <td>0.01</td>\n",
              "      <td>0.13</td>\n",
              "      <td>1.18</td>\n",
              "    </tr>\n",
              "  </tbody>\n",
              "</table>\n",
              "</div>"
            ],
            "text/plain": [
              "       date  actual_mean_temp  ...  average_precipitation  record_precipitation\n",
              "0  2014-7-1                76  ...                   0.11                  1.23\n",
              "1  2014-7-2                66  ...                   0.10                  2.50\n",
              "2  2014-7-3                66  ...                   0.11                  1.38\n",
              "3  2014-7-4                70  ...                   0.11                  0.94\n",
              "4  2014-7-5                71  ...                   0.13                  1.18\n",
              "\n",
              "[5 rows x 13 columns]"
            ]
          },
          "metadata": {
            "tags": []
          },
          "execution_count": 7
        }
      ]
    },
    {
      "cell_type": "code",
      "metadata": {
        "id": "qd75Wd8sPPpU",
        "outputId": "982269a1-1585-484a-eeb7-279a748298ad",
        "colab": {
          "base_uri": "https://localhost:8080/",
          "height": 317
        }
      },
      "source": [
        "#stats for data set\n",
        "df.describe()"
      ],
      "execution_count": 8,
      "outputs": [
        {
          "output_type": "execute_result",
          "data": {
            "text/html": [
              "<div>\n",
              "<style scoped>\n",
              "    .dataframe tbody tr th:only-of-type {\n",
              "        vertical-align: middle;\n",
              "    }\n",
              "\n",
              "    .dataframe tbody tr th {\n",
              "        vertical-align: top;\n",
              "    }\n",
              "\n",
              "    .dataframe thead th {\n",
              "        text-align: right;\n",
              "    }\n",
              "</style>\n",
              "<table border=\"1\" class=\"dataframe\">\n",
              "  <thead>\n",
              "    <tr style=\"text-align: right;\">\n",
              "      <th></th>\n",
              "      <th>actual_mean_temp</th>\n",
              "      <th>actual_min_temp</th>\n",
              "      <th>actual_max_temp</th>\n",
              "      <th>average_min_temp</th>\n",
              "      <th>average_max_temp</th>\n",
              "      <th>record_min_temp</th>\n",
              "      <th>record_max_temp</th>\n",
              "      <th>record_min_temp_year</th>\n",
              "      <th>record_max_temp_year</th>\n",
              "      <th>actual_precipitation</th>\n",
              "      <th>average_precipitation</th>\n",
              "      <th>record_precipitation</th>\n",
              "    </tr>\n",
              "  </thead>\n",
              "  <tbody>\n",
              "    <tr>\n",
              "      <th>count</th>\n",
              "      <td>365.000000</td>\n",
              "      <td>365.000000</td>\n",
              "      <td>365.000000</td>\n",
              "      <td>365.000000</td>\n",
              "      <td>365.000000</td>\n",
              "      <td>365.000000</td>\n",
              "      <td>365.000000</td>\n",
              "      <td>364.000000</td>\n",
              "      <td>364.000000</td>\n",
              "      <td>365.000000</td>\n",
              "      <td>365.000000</td>\n",
              "      <td>365.000000</td>\n",
              "    </tr>\n",
              "    <tr>\n",
              "      <th>mean</th>\n",
              "      <td>51.049315</td>\n",
              "      <td>42.882192</td>\n",
              "      <td>58.712329</td>\n",
              "      <td>43.539726</td>\n",
              "      <td>59.471233</td>\n",
              "      <td>21.191781</td>\n",
              "      <td>83.183562</td>\n",
              "      <td>1959.662088</td>\n",
              "      <td>1968.912088</td>\n",
              "      <td>0.098740</td>\n",
              "      <td>0.107096</td>\n",
              "      <td>1.674630</td>\n",
              "    </tr>\n",
              "    <tr>\n",
              "      <th>std</th>\n",
              "      <td>20.352735</td>\n",
              "      <td>19.739925</td>\n",
              "      <td>21.427029</td>\n",
              "      <td>17.299136</td>\n",
              "      <td>18.807071</td>\n",
              "      <td>23.142332</td>\n",
              "      <td>15.615284</td>\n",
              "      <td>22.896788</td>\n",
              "      <td>25.888040</td>\n",
              "      <td>0.323879</td>\n",
              "      <td>0.025329</td>\n",
              "      <td>0.919481</td>\n",
              "    </tr>\n",
              "    <tr>\n",
              "      <th>min</th>\n",
              "      <td>1.000000</td>\n",
              "      <td>-7.000000</td>\n",
              "      <td>7.000000</td>\n",
              "      <td>18.000000</td>\n",
              "      <td>31.000000</td>\n",
              "      <td>-25.000000</td>\n",
              "      <td>51.000000</td>\n",
              "      <td>1873.000000</td>\n",
              "      <td>1928.000000</td>\n",
              "      <td>0.000000</td>\n",
              "      <td>0.050000</td>\n",
              "      <td>0.340000</td>\n",
              "    </tr>\n",
              "    <tr>\n",
              "      <th>25%</th>\n",
              "      <td>35.000000</td>\n",
              "      <td>30.000000</td>\n",
              "      <td>39.000000</td>\n",
              "      <td>27.000000</td>\n",
              "      <td>41.000000</td>\n",
              "      <td>-1.000000</td>\n",
              "      <td>69.000000</td>\n",
              "      <td>1940.000000</td>\n",
              "      <td>1947.000000</td>\n",
              "      <td>0.000000</td>\n",
              "      <td>0.090000</td>\n",
              "      <td>1.080000</td>\n",
              "    </tr>\n",
              "    <tr>\n",
              "      <th>50%</th>\n",
              "      <td>53.000000</td>\n",
              "      <td>44.000000</td>\n",
              "      <td>62.000000</td>\n",
              "      <td>44.000000</td>\n",
              "      <td>61.000000</td>\n",
              "      <td>26.000000</td>\n",
              "      <td>87.000000</td>\n",
              "      <td>1958.000000</td>\n",
              "      <td>1970.000000</td>\n",
              "      <td>0.000000</td>\n",
              "      <td>0.110000</td>\n",
              "      <td>1.410000</td>\n",
              "    </tr>\n",
              "    <tr>\n",
              "      <th>75%</th>\n",
              "      <td>70.000000</td>\n",
              "      <td>60.000000</td>\n",
              "      <td>79.000000</td>\n",
              "      <td>60.000000</td>\n",
              "      <td>78.000000</td>\n",
              "      <td>44.000000</td>\n",
              "      <td>97.000000</td>\n",
              "      <td>1979.250000</td>\n",
              "      <td>1990.000000</td>\n",
              "      <td>0.040000</td>\n",
              "      <td>0.130000</td>\n",
              "      <td>2.050000</td>\n",
              "    </tr>\n",
              "    <tr>\n",
              "      <th>max</th>\n",
              "      <td>83.000000</td>\n",
              "      <td>74.000000</td>\n",
              "      <td>94.000000</td>\n",
              "      <td>68.000000</td>\n",
              "      <td>85.000000</td>\n",
              "      <td>58.000000</td>\n",
              "      <td>109.000000</td>\n",
              "      <td>2015.000000</td>\n",
              "      <td>2014.000000</td>\n",
              "      <td>3.310000</td>\n",
              "      <td>0.150000</td>\n",
              "      <td>6.160000</td>\n",
              "    </tr>\n",
              "  </tbody>\n",
              "</table>\n",
              "</div>"
            ],
            "text/plain": [
              "       actual_mean_temp  ...  record_precipitation\n",
              "count        365.000000  ...            365.000000\n",
              "mean          51.049315  ...              1.674630\n",
              "std           20.352735  ...              0.919481\n",
              "min            1.000000  ...              0.340000\n",
              "25%           35.000000  ...              1.080000\n",
              "50%           53.000000  ...              1.410000\n",
              "75%           70.000000  ...              2.050000\n",
              "max           83.000000  ...              6.160000\n",
              "\n",
              "[8 rows x 12 columns]"
            ]
          },
          "metadata": {
            "tags": []
          },
          "execution_count": 8
        }
      ]
    },
    {
      "cell_type": "code",
      "metadata": {
        "id": "2ywBxqrHPhfS"
      },
      "source": [
        "#check for nulls\n",
        "\n",
        "df.isnull().sum()"
      ],
      "execution_count": null,
      "outputs": []
    },
    {
      "cell_type": "code",
      "metadata": {
        "id": "o0xbf8X9RLDA"
      },
      "source": [
        "#heatmap\n",
        "corr = df.corr()\n",
        "fig, ax = plt.subplots(figsize = (10,10))\n",
        "sns.heatmap(data=corr, square=True, annot=True, cbar = True, ax = ax)"
      ],
      "execution_count": null,
      "outputs": []
    },
    {
      "cell_type": "code",
      "metadata": {
        "id": "Ip67ZIryHjws"
      },
      "source": [
        "df.nunique()"
      ],
      "execution_count": null,
      "outputs": []
    },
    {
      "cell_type": "code",
      "metadata": {
        "id": "tAWgg49NKY4s"
      },
      "source": [
        "sns.factorplot(x='actual_mean_temp', data = df, kind = 'count', size = 3, aspect = 1.)\n",
        "sns.factorplot(x='actual_max_temp', data = df, kind = 'count', size = 3, aspect = 1.)\n",
        "\n",
        "\n",
        "\n",
        "\n",
        "               "
      ],
      "execution_count": null,
      "outputs": []
    },
    {
      "cell_type": "code",
      "metadata": {
        "id": "VFJvAHo640je"
      },
      "source": [
        "sns.catplot(data=df, kind = 'box',  height = 4, aspect = 2)"
      ],
      "execution_count": null,
      "outputs": []
    },
    {
      "cell_type": "code",
      "metadata": {
        "id": "CNv_OAvLNtQB"
      },
      "source": [
        "df.hist(bins=50, figsize=(15,10))\n",
        "plt.show()"
      ],
      "execution_count": null,
      "outputs": []
    },
    {
      "cell_type": "code",
      "metadata": {
        "id": "fYOidNqkYZEx"
      },
      "source": [
        "normalized_df=(df-df.mean())/df.std()\n",
        "for col in df:\n",
        "    sns.kdeplot(normalized_df[col], shade=True)\n"
      ],
      "execution_count": null,
      "outputs": []
    },
    {
      "cell_type": "code",
      "metadata": {
        "id": "401ueA7QZ8xF"
      },
      "source": [
        "df.agg(['skew','kurt','sem'])"
      ],
      "execution_count": null,
      "outputs": []
    },
    {
      "cell_type": "code",
      "metadata": {
        "id": "0KRLpAYS8F4L"
      },
      "source": [
        " #Data science provides meaningful information based on large amounts of complex data or big data. Data science, or data-driven science, combines different fields of work in statistics and computation to interpret data for decision-making purposes.\n",
        "#https://www.datarobot.com/wiki/data-science/\n",
        "\n",
        "#Frame the problem- collect raw data- process data- explore data- perform in-depth analysis- communicate the results of the analysis\n",
        "#https://www.kdnuggets.com/2016/03/data-science-process.html\n",
        "\n"
      ],
      "execution_count": null,
      "outputs": []
    },
    {
      "cell_type": "code",
      "metadata": {
        "id": "2uZwJ1kkElty"
      },
      "source": [
        "#Lists are mutable and tuples are not mutable\n",
        "#scikit learn-Scikit-learn is a free machine learning library for Python. It features various algorithms like support vector machine, random forests, and k-neighbours,\n",
        "#panda-  is a fast, powerful, flexible and easy to use open source data analysis and manipulation tool, built on top of the Python programming language.\n",
        "#numpy- works with arrays has functions for working in domain of linear algebra, fourier transform, and matrices.\n",
        "#tensorflow- fast numerical computing\n",
        "#tkinter - is python's de-facto standard GUI library"
      ],
      "execution_count": null,
      "outputs": []
    }
  ]
}