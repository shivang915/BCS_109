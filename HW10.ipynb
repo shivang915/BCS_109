{
  "nbformat": 4,
  "nbformat_minor": 0,
  "metadata": {
    "colab": {
      "name": "HW10",
      "provenance": [],
      "authorship_tag": "ABX9TyMNdeMK2v1yEc1HK/9Mf1MH",
      "include_colab_link": true
    },
    "kernelspec": {
      "name": "python3",
      "display_name": "Python 3"
    }
  },
  "cells": [
    {
      "cell_type": "markdown",
      "metadata": {
        "id": "view-in-github",
        "colab_type": "text"
      },
      "source": [
        "<a href=\"https://colab.research.google.com/github/shivang915/BCS_109/blob/master/HW10.ipynb\" target=\"_parent\"><img src=\"https://colab.research.google.com/assets/colab-badge.svg\" alt=\"Open In Colab\"/></a>"
      ]
    },
    {
      "cell_type": "code",
      "metadata": {
        "id": "q6GkL2PcJMc3",
        "outputId": "82e10d9e-9c74-4517-882e-8f2a3cd48b9b",
        "colab": {
          "base_uri": "https://localhost:8080/",
          "height": 309
        }
      },
      "source": [
        "import pandas as pd\n",
        "import numpy as np\n",
        "import matplotlib.pyplot as plt\n",
        "import missingno as msno\n",
        "import seaborn as sns\n",
        "\n",
        "df = pd.read_csv(\"https://raw.githubusercontent.com/fivethirtyeight/data/master/us-weather-history/KMDW.csv\")\n",
        "df.head()\n",
        "\n",
        "\n",
        "\n"
      ],
      "execution_count": null,
      "outputs": [
        {
          "output_type": "execute_result",
          "data": {
            "text/html": [
              "<div>\n",
              "<style scoped>\n",
              "    .dataframe tbody tr th:only-of-type {\n",
              "        vertical-align: middle;\n",
              "    }\n",
              "\n",
              "    .dataframe tbody tr th {\n",
              "        vertical-align: top;\n",
              "    }\n",
              "\n",
              "    .dataframe thead th {\n",
              "        text-align: right;\n",
              "    }\n",
              "</style>\n",
              "<table border=\"1\" class=\"dataframe\">\n",
              "  <thead>\n",
              "    <tr style=\"text-align: right;\">\n",
              "      <th></th>\n",
              "      <th>date</th>\n",
              "      <th>actual_mean_temp</th>\n",
              "      <th>actual_min_temp</th>\n",
              "      <th>actual_max_temp</th>\n",
              "      <th>average_min_temp</th>\n",
              "      <th>average_max_temp</th>\n",
              "      <th>record_min_temp</th>\n",
              "      <th>record_max_temp</th>\n",
              "      <th>record_min_temp_year</th>\n",
              "      <th>record_max_temp_year</th>\n",
              "      <th>actual_precipitation</th>\n",
              "      <th>average_precipitation</th>\n",
              "      <th>record_precipitation</th>\n",
              "    </tr>\n",
              "  </thead>\n",
              "  <tbody>\n",
              "    <tr>\n",
              "      <th>0</th>\n",
              "      <td>2014-7-1</td>\n",
              "      <td>76</td>\n",
              "      <td>68</td>\n",
              "      <td>84</td>\n",
              "      <td>67</td>\n",
              "      <td>84</td>\n",
              "      <td>49</td>\n",
              "      <td>103</td>\n",
              "      <td>1982.0</td>\n",
              "      <td>1956.0</td>\n",
              "      <td>0.04</td>\n",
              "      <td>0.11</td>\n",
              "      <td>1.23</td>\n",
              "    </tr>\n",
              "    <tr>\n",
              "      <th>1</th>\n",
              "      <td>2014-7-2</td>\n",
              "      <td>66</td>\n",
              "      <td>58</td>\n",
              "      <td>74</td>\n",
              "      <td>67</td>\n",
              "      <td>84</td>\n",
              "      <td>48</td>\n",
              "      <td>99</td>\n",
              "      <td>1930.0</td>\n",
              "      <td>1970.0</td>\n",
              "      <td>0.12</td>\n",
              "      <td>0.10</td>\n",
              "      <td>2.50</td>\n",
              "    </tr>\n",
              "    <tr>\n",
              "      <th>2</th>\n",
              "      <td>2014-7-3</td>\n",
              "      <td>66</td>\n",
              "      <td>57</td>\n",
              "      <td>75</td>\n",
              "      <td>67</td>\n",
              "      <td>84</td>\n",
              "      <td>50</td>\n",
              "      <td>102</td>\n",
              "      <td>1940.0</td>\n",
              "      <td>1949.0</td>\n",
              "      <td>0.05</td>\n",
              "      <td>0.11</td>\n",
              "      <td>1.38</td>\n",
              "    </tr>\n",
              "    <tr>\n",
              "      <th>3</th>\n",
              "      <td>2014-7-4</td>\n",
              "      <td>70</td>\n",
              "      <td>60</td>\n",
              "      <td>79</td>\n",
              "      <td>67</td>\n",
              "      <td>84</td>\n",
              "      <td>49</td>\n",
              "      <td>101</td>\n",
              "      <td>1940.0</td>\n",
              "      <td>2012.0</td>\n",
              "      <td>0.00</td>\n",
              "      <td>0.11</td>\n",
              "      <td>0.94</td>\n",
              "    </tr>\n",
              "    <tr>\n",
              "      <th>4</th>\n",
              "      <td>2014-7-5</td>\n",
              "      <td>71</td>\n",
              "      <td>63</td>\n",
              "      <td>79</td>\n",
              "      <td>67</td>\n",
              "      <td>84</td>\n",
              "      <td>46</td>\n",
              "      <td>103</td>\n",
              "      <td>1972.0</td>\n",
              "      <td>2012.0</td>\n",
              "      <td>0.01</td>\n",
              "      <td>0.13</td>\n",
              "      <td>1.18</td>\n",
              "    </tr>\n",
              "  </tbody>\n",
              "</table>\n",
              "</div>"
            ],
            "text/plain": [
              "       date  actual_mean_temp  ...  average_precipitation  record_precipitation\n",
              "0  2014-7-1                76  ...                   0.11                  1.23\n",
              "1  2014-7-2                66  ...                   0.10                  2.50\n",
              "2  2014-7-3                66  ...                   0.11                  1.38\n",
              "3  2014-7-4                70  ...                   0.11                  0.94\n",
              "4  2014-7-5                71  ...                   0.13                  1.18\n",
              "\n",
              "[5 rows x 13 columns]"
            ]
          },
          "metadata": {
            "tags": []
          },
          "execution_count": 12
        }
      ]
    },
    {
      "cell_type": "code",
      "metadata": {
        "id": "qd75Wd8sPPpU"
      },
      "source": [
        "#stats for data set\n",
        "df.describe()"
      ],
      "execution_count": null,
      "outputs": []
    },
    {
      "cell_type": "code",
      "metadata": {
        "id": "2ywBxqrHPhfS"
      },
      "source": [
        "#check for nulls\n",
        "\n",
        "df.isnull().sum()"
      ],
      "execution_count": null,
      "outputs": []
    },
    {
      "cell_type": "code",
      "metadata": {
        "id": "o0xbf8X9RLDA"
      },
      "source": [
        "#heatmap\n",
        "corr = df.corr()\n",
        "fig, ax = plt.subplots(figsize = (10,10))\n",
        "sns.heatmap(data=corr, square=True, annot=True, cbar = True, ax = ax)"
      ],
      "execution_count": null,
      "outputs": []
    },
    {
      "cell_type": "code",
      "metadata": {
        "id": "VFJvAHo640je",
        "outputId": "1346d30e-ca14-4eac-b283-e65395d980b6",
        "colab": {
          "base_uri": "https://localhost:8080/",
          "height": 314
        }
      },
      "source": [
        "sns.catplot(data=df, kind = 'box',  height = 4, aspect = 2)"
      ],
      "execution_count": 16,
      "outputs": [
        {
          "output_type": "execute_result",
          "data": {
            "text/plain": [
              "<seaborn.axisgrid.FacetGrid at 0x7f600d4b9400>"
            ]
          },
          "metadata": {
            "tags": []
          },
          "execution_count": 16
        },
        {
          "output_type": "display_data",
          "data": {
            "image/png": "[encoded data removed]",
            "text/plain": [
              "<Figure size 576x288 with 1 Axes>"
            ]
          },
          "metadata": {
            "tags": [],
            "needs_background": "light"
          }
        }
      ]
    },
    {
      "cell_type": "code",
      "metadata": {
        "id": "0KRLpAYS8F4L"
      },
      "source": [
        " #Data science provides meaningful information based on large amounts of complex data or big data. Data science, or data-driven science, combines different fields of work in statistics and computation to interpret data for decision-making purposes.\n",
        "#https://www.datarobot.com/wiki/data-science/\n",
        "\n",
        "#Frame the problem- collect raw data- process data- explore data- perform in-depth analysis- communicate the results of the analysis\n",
        "#https://www.kdnuggets.com/2016/03/data-science-process.html\n",
        "\n"
      ],
      "execution_count": null,
      "outputs": []
    },
    {
      "cell_type": "code",
      "metadata": {
        "id": "2uZwJ1kkElty"
      },
      "source": [
        "#Lists are mutable and tuples are not mutable\n",
        "#scikit learn-Scikit-learn is a free machine learning library for Python. It features various algorithms like support vector machine, random forests, and k-neighbours,\n",
        "#panda-  is a fast, powerful, flexible and easy to use open source data analysis and manipulation tool, built on top of the Python programming language.\n",
        "#numpy- works with arrays has functions for working in domain of linear algebra, fourier transform, and matrices.\n",
        "#tensorflow- fast numerical computing\n",
        "#tkinter - is python's de-facto standard GUI library"
      ],
      "execution_count": null,
      "outputs": []
    }
  ]
}