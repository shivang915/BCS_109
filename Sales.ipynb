{
  "nbformat": 4,
  "nbformat_minor": 0,
  "metadata": {
    "colab": {
      "name": "Sales",
      "provenance": [],
      "authorship_tag": "ABX9TyMGgwwwknMrUgsNinyP5/Iw",
      "include_colab_link": true
    },
    "kernelspec": {
      "name": "python3",
      "display_name": "Python 3"
    }
  },
  "cells": [
    {
      "cell_type": "markdown",
      "metadata": {
        "id": "view-in-github",
        "colab_type": "text"
      },
      "source": [
        "<a href=\"https://colab.research.google.com/github/shivang915/BCS_109/blob/master/Sales.ipynb\" target=\"_parent\"><img src=\"https://colab.research.google.com/assets/colab-badge.svg\" alt=\"Open In Colab\"/></a>"
      ]
    },
    {
      "cell_type": "code",
      "metadata": {
        "id": "gGkEDUx-_Bnp",
        "colab_type": "code",
        "colab": {}
      },
      "source": [
        ""
      ],
      "execution_count": null,
      "outputs": []
    },
    {
      "cell_type": "markdown",
      "metadata": {
        "id": "QR0UQ3d6_JcT",
        "colab_type": "text"
      },
      "source": [
        "#Quantity Discounts#\n",
        "This program enters the number of packages bought and displays the total purchase after discount"
      ]
    },
    {
      "cell_type": "code",
      "metadata": {
        "id": "DwEReZsO_hLB",
        "colab_type": "code",
        "colab": {
          "base_uri": "https://localhost:8080/",
          "height": 51
        },
        "outputId": "92cc9836-accc-4fb3-e18f-08e5748b664a"
      },
      "source": [
        "x = int(input('number of packages:  '))\n",
        "if x >= 10 and x <= 19:\n",
        "  total = 99*0.10\n",
        "elif x >= 20 and x <= 49:\n",
        "  total = 99*0.20\n",
        "elif x >= 50 and x <= 99:\n",
        "  total = 99*0.30\n",
        "elif x >= 100:\n",
        "  total = 99*0.40\n",
        "\n",
        "\n",
        "print(f'${total:,.2f}.')\n",
        "\n",
        "\n"
      ],
      "execution_count": 6,
      "outputs": [
        {
          "output_type": "stream",
          "text": [
            "number of packages:  50\n",
            "$29.70.\n"
          ],
          "name": "stdout"
        }
      ]
    },
    {
      "cell_type": "code",
      "metadata": {
        "id": "bu34xQgCOiRi",
        "colab_type": "code",
        "colab": {}
      },
      "source": [
        ""
      ],
      "execution_count": null,
      "outputs": []
    },
    {
      "cell_type": "markdown",
      "metadata": {
        "id": "ybRf09OJQT3O",
        "colab_type": "text"
      },
      "source": [
        "#Shipping Company Charges#\n",
        "Program enters users weight and displays shipping charges"
      ]
    },
    {
      "cell_type": "code",
      "metadata": {
        "id": "j5iShWbsQoUF",
        "colab_type": "code",
        "colab": {
          "base_uri": "https://localhost:8080/",
          "height": 51
        },
        "outputId": "1df49618-3171-4c92-b4c3-782f854461fa"
      },
      "source": [
        "x = int(input('Enter users weight'))\n",
        "if x <= 2:\n",
        " charges = x*1.20\n",
        "elif x > 2 and x <= 6:\n",
        " charges = x*3.00\n",
        "elif x > 6 and x <= 10:\n",
        " charges = x*4.00\n",
        "elif x > 10:\n",
        " charges = x*4.75\n",
        "\n",
        "print(f'${charges:,.2f}')\n",
        "\n"
      ],
      "execution_count": 9,
      "outputs": [
        {
          "output_type": "stream",
          "text": [
            "Enter users weight4\n",
            "$12.00\n"
          ],
          "name": "stdout"
        }
      ]
    }
  ]
}