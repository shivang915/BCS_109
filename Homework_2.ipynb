{
  "nbformat": 4,
  "nbformat_minor": 0,
  "metadata": {
    "colab": {
      "name": "Homework 2",
      "provenance": [],
      "collapsed_sections": []
    },
    "kernelspec": {
      "name": "python3",
      "display_name": "Python 3"
    }
  },
  "cells": [
    {
      "cell_type": "code",
      "metadata": {
        "id": "rNTIa1JBeNfZ",
        "colab_type": "code",
        "colab": {}
      },
      "source": [
        ""
      ],
      "execution_count": null,
      "outputs": []
    },
    {
      "cell_type": "markdown",
      "metadata": {
        "id": "wY9rD9tgeltC",
        "colab_type": "text"
      },
      "source": [
        "#Shivang Info#\n",
        "\n",
        "I have a biomedical engineering degree from Stony Brook University. I realized that having a computer science degree would help in my job search so I decided to get my degree from Farmingdale"
      ]
    },
    {
      "cell_type": "markdown",
      "metadata": {
        "id": "wlVeb3P617q-",
        "colab_type": "text"
      },
      "source": [
        ""
      ]
    }
  ]
}