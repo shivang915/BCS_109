{
  "nbformat": 4,
  "nbformat_minor": 0,
  "metadata": {
    "colab": {
      "name": "HW5.ipynb",
      "provenance": [],
      "authorship_tag": "ABX9TyNLCUb2u80Tb6kM/iyEExpb",
      "include_colab_link": true
    },
    "kernelspec": {
      "name": "python3",
      "display_name": "Python 3"
    }
  },
  "cells": [
    {
      "cell_type": "markdown",
      "metadata": {
        "id": "view-in-github",
        "colab_type": "text"
      },
      "source": [
        "<a href=\"https://colab.research.google.com/github/shivang915/BCS_109/blob/master/HW5.ipynb\" target=\"_parent\"><img src=\"https://colab.research.google.com/assets/colab-badge.svg\" alt=\"Open In Colab\"/></a>"
      ]
    },
    {
      "cell_type": "code",
      "metadata": {
        "id": "wU4wXmM6YVZv"
      },
      "source": [
        ""
      ],
      "execution_count": null,
      "outputs": []
    },
    {
      "cell_type": "code",
      "metadata": {
        "id": "xnenK9K8_Ux0",
        "outputId": "bc839236-67fa-4ef4-995f-11b3c6a5df18",
        "colab": {
          "base_uri": "https://localhost:8080/",
          "height": 51
        }
      },
      "source": [
        "name = input(\"What is my name\")\n",
        "age = int(input('What is age'))\n",
        "chances = 0\n",
        "while age <= 1 or age >= 100:\n",
        "  if chances >= 3:\n",
        "    print(\"Unacceptable\")\n",
        "    break\n",
        "  chances += 1\n",
        "  age = int(input(\"New age\"))\n",
        "\n",
        "  print('Acceptable')\n",
        "\n",
        "    \n",
        "\n",
        "  "
      ],
      "execution_count": null,
      "outputs": [
        {
          "output_type": "stream",
          "text": [
            "What is my nameShivang\n",
            "What is age5\n"
          ],
          "name": "stdout"
        }
      ]
    },
    {
      "cell_type": "code",
      "metadata": {
        "id": "GHwTk7MPk1l_"
      },
      "source": [
        "password = input('password   ')\n",
        "counter = 0\n",
        "\n",
        "for letter in password:\n",
        "  counter = counter + 1\n",
        "  if letter.isupper():\n",
        "    upperCase = True\n",
        "  if letter.islower():\n",
        "    lowerCase = True\n",
        "  if password.isdigit():\n",
        "    number = True\n",
        "     \n",
        "\n",
        "if counter is 8 and upperCase is True and lowerCase is True and number is True:\n",
        "  print('Valid password')\n",
        "else:\n",
        "  print('invalid')\n",
        "\n"
      ],
      "execution_count": null,
      "outputs": []
    }
  ]
}