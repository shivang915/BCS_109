{
  "nbformat": 4,
  "nbformat_minor": 0,
  "metadata": {
    "colab": {
      "name": "HW9",
      "provenance": [],
      "collapsed_sections": [],
      "authorship_tag": "ABX9TyMbObcIVlR/8goDWj/qgkx3",
      "include_colab_link": true
    },
    "kernelspec": {
      "name": "python3",
      "display_name": "Python 3"
    }
  },
  "cells": [
    {
      "cell_type": "markdown",
      "metadata": {
        "id": "view-in-github",
        "colab_type": "text"
      },
      "source": [
        "<a href=\"https://colab.research.google.com/github/shivang915/BCS_109/blob/master/HW9.ipynb\" target=\"_parent\"><img src=\"https://colab.research.google.com/assets/colab-badge.svg\" alt=\"Open In Colab\"/></a>"
      ]
    },
    {
      "cell_type": "code",
      "metadata": {
        "id": "GgKZye0NR3-Q",
        "outputId": "86cc6f2b-2e63-450b-a582-fb1e805afdc8",
        "colab": {
          "base_uri": "https://localhost:8080/"
        }
      },
      "source": [
        "def theMax(numbers):\n",
        "  max = -1\n",
        "  for k in numbers:\n",
        "    if max < k:\n",
        "      max = k\n",
        "  return max\n",
        "\n",
        "def theMin(numbers):\n",
        "  min = 1000000000\n",
        "  for k in numbers:\n",
        "    if min > k:\n",
        "      min = k\n",
        "  return min\n",
        "\n",
        "def theAverage(numbers):\n",
        "  total = 0\n",
        "  for k in numbers:\n",
        "    total += k\n",
        "  return total/ len(numbers)\n",
        "\n",
        "def theSD(numbers):\n",
        "  total = 0\n",
        "  avg = theAverage(numbers)\n",
        "  for k in numbers:\n",
        "    total += pow(k-avg,2)\n",
        "  return pow(total/(len(numbers)-1),.5)\n",
        "\n",
        "def theGeoMean(numbers):\n",
        "  total = 1\n",
        "  for k in numbers:\n",
        "    total *= k\n",
        "  return pow(total, 1/len(numbers))\n",
        "\n",
        "theList = [19, 32, 34,33, 75, 91, 9, 4, 18, 38]\n",
        "print(theAverage(theList))\n",
        "print(theGeoMean(theList))"
      ],
      "execution_count": null,
      "outputs": [
        {
          "output_type": "stream",
          "text": [
            "35.3\n",
            "25.464536135860143\n"
          ],
          "name": "stdout"
        }
      ]
    },
    {
      "cell_type": "code",
      "metadata": {
        "id": "D3-BhrAPTjOv",
        "outputId": "0bda771b-9400-40c6-8da9-a1cf11ef3631",
        "colab": {
          "base_uri": "https://localhost:8080/"
        }
      },
      "source": [
        "import math\n",
        "\n",
        "def chooseShape():\n",
        "  val = int(input(\"Press 1 for triangle, 2 for circle, 3 for square\"))\n",
        "  if val == 1:\n",
        "    triangleArea()\n",
        "  elif val == 2:\n",
        "    circleArea()\n",
        "  elif val == 3:\n",
        "    squareArea()\n",
        "  else:\n",
        "    print(\"Invalid choice\")\n",
        "\n",
        "def triangleArea():\n",
        "  base = float(input('What is the base?'))\n",
        "  height = float(input('What is the height?'))\n",
        "  print(f'The area is {base*height/2}.')\n",
        "\n",
        "def circleArea():\n",
        "  radius = float(input('What is the radius?'))\n",
        "  print(f'The area of the circle is {radius*radius*math.pi}')\n",
        "\n",
        "def squareArea():\n",
        "  base = float(input('What is the base'))\n",
        "  print(f'The area of the square is {base*base}')\n",
        "\n",
        "chooseShape()\n",
        "   \n",
        "  "
      ],
      "execution_count": null,
      "outputs": [
        {
          "output_type": "stream",
          "text": [
            "Press 1 for triangle, 2 for circle, 3 for square 2\n",
            "What is the radius?6\n",
            "The area of the circle is 113.09733552923255\n"
          ],
          "name": "stdout"
        }
      ]
    },
    {
      "cell_type": "code",
      "metadata": {
        "id": "pREgOCFjh5QG",
        "outputId": "d75c2a35-ac92-4d3b-fb45-e6e195a3862c",
        "colab": {
          "base_uri": "https://localhost:8080/"
        }
      },
      "source": [
        "def doubleIt(x):\n",
        "  choice = int(input('Say 1 to double the numbers and 2 to double the values'))\n",
        "\n",
        "  if choice == 1:\n",
        "    return x*2\n",
        "    \n",
        "  elif choice == 2:\n",
        "    for k in range(len(x)):\n",
        "      x[k] = x[k]*2\n",
        "    return x\n",
        "\n",
        "\n",
        "val = [1, 2, 3]\n",
        "other = doubleIt(val)\n",
        "\n",
        "print(other)"
      ],
      "execution_count": null,
      "outputs": [
        {
          "output_type": "stream",
          "text": [
            "Say 1 to double the numbers and 2 to double the values1\n",
            "[1, 2, 3, 1, 2, 3]\n"
          ],
          "name": "stdout"
        }
      ]
    },
    {
      "cell_type": "code",
      "metadata": {
        "id": "-_yEV8RQ2cUO",
        "outputId": "4011a3eb-550c-460a-dae4-01f1eddc4c66",
        "colab": {
          "base_uri": "https://localhost:8080/"
        }
      },
      "source": [
        "def isPrime():\n",
        " for Number in range (1, 101):\n",
        "    count = 0\n",
        "    for i in range(2, (Number//2 + 1)):\n",
        "        if(Number % i == 0):\n",
        "            count = count + 1\n",
        "            break\n",
        "\n",
        "    if (count == 0 and Number != 1):\n",
        "        print(\" %d\" %Number, end = '  ')\n",
        "\n",
        "isPrime()"
      ],
      "execution_count": null,
      "outputs": [
        {
          "output_type": "stream",
          "text": [
            " 2   3   5   7   11   13   17   19   23   29   31   37   41   43   47   53   59   61   67   71   73   79   83   89   97  "
          ],
          "name": "stdout"
        }
      ]
    },
    {
      "cell_type": "code",
      "metadata": {
        "id": "gY1nlgguLpAK",
        "outputId": "ba4cd842-7ad2-43a1-bbbd-25e5135db610",
        "colab": {
          "base_uri": "https://localhost:8080/"
        }
      },
      "source": [
        "def calculation(x,y):\n",
        "   area = x -y\n",
        "   ba = x + y\n",
        "   return area, ba \n",
        "   \n",
        "\n",
        "calculation(1, 2)"
      ],
      "execution_count": 5,
      "outputs": [
        {
          "output_type": "execute_result",
          "data": {
            "text/plain": [
              "(-1, 3)"
            ]
          },
          "metadata": {
            "tags": []
          },
          "execution_count": 5
        }
      ]
    },
    {
      "cell_type": "code",
      "metadata": {
        "id": "t51lKr26McSN",
        "outputId": "2922665e-58a5-439e-d9a4-1f52d26354b0",
        "colab": {
          "base_uri": "https://localhost:8080/"
        }
      },
      "source": [
        "def multiples():\n",
        "   count = 0\n",
        "   for i in range (0,1000):\n",
        "      if (i % 3 == 0 or i % 5 == 0):\n",
        "        count = count + i\n",
        "   return count\n",
        "\n",
        "multiples()\n",
        "\n",
        "\n",
        "\n"
      ],
      "execution_count": 26,
      "outputs": [
        {
          "output_type": "execute_result",
          "data": {
            "text/plain": [
              "233168"
            ]
          },
          "metadata": {
            "tags": []
          },
          "execution_count": 26
        }
      ]
    },
    {
      "cell_type": "code",
      "metadata": {
        "id": "_WoTPE7voNg9",
        "outputId": "7ae90112-2ec8-44be-d41d-8a9e09e3a00f",
        "colab": {
          "base_uri": "https://localhost:8080/",
          "height": 34
        }
      },
      "source": [
        "#sum of even valued fibonacci numbers\n",
        "def fib():\n",
        " a = 1\n",
        " b = 1\n",
        " total = 0\n",
        "\n",
        " for k in range(1000):\n",
        "  c = a +b \n",
        "  if c >= 1000:\n",
        "     break\n",
        "  elif (c % 2 == 0):\n",
        "    total += c\n",
        "  a = b\n",
        "  b = c\n",
        " \n",
        " return total\n",
        "\n",
        "print(fib())"
      ],
      "execution_count": null,
      "outputs": [
        {
          "output_type": "stream",
          "text": [
            "798\n"
          ],
          "name": "stdout"
        }
      ]
    },
    {
      "cell_type": "code",
      "metadata": {
        "id": "07kpaEfLs3cv"
      },
      "source": [
        ""
      ],
      "execution_count": null,
      "outputs": []
    }
  ]
}