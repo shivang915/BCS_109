{
  "nbformat": 4,
  "nbformat_minor": 0,
  "metadata": {
    "colab": {
      "name": "Savings",
      "provenance": [],
      "collapsed_sections": [],
      "authorship_tag": "ABX9TyMJpmpwlj9GjDGi20CG1qTE",
      "include_colab_link": true
    },
    "kernelspec": {
      "name": "python3",
      "display_name": "Python 3"
    }
  },
  "cells": [
    {
      "cell_type": "markdown",
      "metadata": {
        "id": "view-in-github",
        "colab_type": "text"
      },
      "source": [
        "<a href=\"https://colab.research.google.com/github/shivang915/BCS_109/blob/master/Savings.ipynb\" target=\"_parent\"><img src=\"https://colab.research.google.com/assets/colab-badge.svg\" alt=\"Open In Colab\"/></a>"
      ]
    },
    {
      "cell_type": "markdown",
      "metadata": {
        "id": "LjFVkN8OmBfH",
        "colab_type": "text"
      },
      "source": [
        ""
      ]
    },
    {
      "cell_type": "markdown",
      "metadata": {
        "id": "mD-v0PIymZHw",
        "colab_type": "text"
      },
      "source": [
        "#Shivang Parikh#\n",
        "This program calculates allows you to calculate the present amount, which is the present amount of the investment. Then we take the differnce betweeen future_value and present_value to find out how much money grew.\n",
        "\n",
        "PV = FV / (1 + r)^years"
      ]
    },
    {
      "cell_type": "markdown",
      "metadata": {
        "id": "9gm-_zGSntM0",
        "colab_type": "text"
      },
      "source": [
        ""
      ]
    },
    {
      "cell_type": "code",
      "metadata": {
        "colab_type": "code",
        "id": "PJb4cUs0l7kv",
        "colab": {
          "base_uri": "https://localhost:8080/",
          "height": 102
        },
        "outputId": "63bcb23c-0e69-4820-8101-b9e8186fef9a"
      },
      "source": [
        "future_value  = float(input('Enter the desired future value: '))\n",
        "rate = float(input('Enter the annual interest rate: '))\n",
        "years = int(input('Enter the number of years the money will grow: '))\n",
        "\n",
        "present_value = future_value / (1.0 + rate)**years\n",
        "difference = future_value - present_value\n",
        "\n",
        "print(f'You will need to deposit this amount ${present_value:,.2f}.')\n",
        "print(f'${difference:,.2f}.')\n",
        "\n",
        "\n",
        "\n",
        "\n",
        "\n"
      ],
      "execution_count": 7,
      "outputs": [
        {
          "output_type": "stream",
          "text": [
            "Enter the desired future value: 50000\n",
            "Enter the annual interest rate: 0.3\n",
            "Enter the number of years the money will grow: 5\n",
            "You will need to deposit this amount $13,466.45.\n",
            "$36,533.55.\n"
          ],
          "name": "stdout"
        }
      ]
    },
    {
      "cell_type": "code",
      "metadata": {
        "id": "vIyCSoqVzg0i",
        "colab_type": "code",
        "colab": {}
      },
      "source": [
        ""
      ],
      "execution_count": null,
      "outputs": []
    },
    {
      "cell_type": "code",
      "metadata": {
        "id": "yrBtfA_EgSln",
        "colab_type": "code",
        "colab": {
          "base_uri": "https://localhost:8080/",
          "height": 136
        },
        "outputId": "806d48e8-5987-4f66-d529-b865bff06013"
      },
      "source": [
        "r = float(input('Interest Rate\\n')) #Interest rate\n",
        "p = float(input('Principal\\n'))\n",
        "t = float(input('time\\n'))\n",
        "\n",
        "output = p*(1+r)/t\n",
        "print(output)\n"
      ],
      "execution_count": null,
      "outputs": [
        {
          "output_type": "stream",
          "text": [
            "Interest Rate\n",
            "5000\n",
            "Principal\n",
            "60000\n",
            "time\n",
            "5\n",
            "60012000.0\n"
          ],
          "name": "stdout"
        }
      ]
    },
    {
      "cell_type": "markdown",
      "metadata": {
        "id": "H5gVlMq1l8Zc",
        "colab_type": "text"
      },
      "source": [
        ""
      ]
    },
    {
      "cell_type": "markdown",
      "metadata": {
        "id": "mNMB7SIMmAcS",
        "colab_type": "text"
      },
      "source": [
        ""
      ]
    },
    {
      "cell_type": "markdown",
      "metadata": {
        "id": "-OkJG0Lclcqp",
        "colab_type": "text"
      },
      "source": [
        ""
      ]
    },
    {
      "cell_type": "markdown",
      "metadata": {
        "id": "xtNuQvQHlaAu",
        "colab_type": "text"
      },
      "source": [
        ""
      ]
    },
    {
      "cell_type": "markdown",
      "metadata": {
        "id": "ElqU76SylW_X",
        "colab_type": "text"
      },
      "source": [
        ""
      ]
    },
    {
      "cell_type": "markdown",
      "metadata": {
        "id": "N8h5VAW5lReb",
        "colab_type": "text"
      },
      "source": [
        ""
      ]
    }
  ]
}