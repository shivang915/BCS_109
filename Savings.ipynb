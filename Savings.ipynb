{
  "nbformat": 4,
  "nbformat_minor": 0,
  "metadata": {
    "colab": {
      "name": "Savings",
      "provenance": [],
      "collapsed_sections": [],
      "authorship_tag": "ABX9TyM2A31TG480HzNfUukTQk5g",
      "include_colab_link": true
    },
    "kernelspec": {
      "name": "python3",
      "display_name": "Python 3"
    }
  },
  "cells": [
    {
      "cell_type": "markdown",
      "metadata": {
        "id": "view-in-github",
        "colab_type": "text"
      },
      "source": [
        "<a href=\"https://colab.research.google.com/github/shivang915/BCS_109/blob/master/Savings.ipynb\" target=\"_parent\"><img src=\"https://colab.research.google.com/assets/colab-badge.svg\" alt=\"Open In Colab\"/></a>"
      ]
    },
    {
      "cell_type": "markdown",
      "metadata": {
        "id": "LjFVkN8OmBfH",
        "colab_type": "text"
      },
      "source": [
        ""
      ]
    },
    {
      "cell_type": "markdown",
      "metadata": {
        "id": "mD-v0PIymZHw",
        "colab_type": "text"
      },
      "source": [
        "#Savings#\n",
        "This program calculates allows you to calculate the present amount, which is the present amount of the investment. Then we take the differnce betweeen future_value and present_value to find out how much money grew.\n",
        "\n",
        "PV = FV / (1 + r)^years"
      ]
    },
    {
      "cell_type": "markdown",
      "metadata": {
        "id": "9gm-_zGSntM0",
        "colab_type": "text"
      },
      "source": [
        ""
      ]
    },
    {
      "cell_type": "code",
      "metadata": {
        "colab_type": "code",
        "id": "PJb4cUs0l7kv",
        "colab": {
          "base_uri": "https://localhost:8080/",
          "height": 102
        },
        "outputId": "63bcb23c-0e69-4820-8101-b9e8186fef9a"
      },
      "source": [
        "future_value  = float(input('Enter the desired future value: '))\n",
        "rate = float(input('Enter the annual interest rate: '))\n",
        "years = int(input('Enter the number of years the money will grow: '))\n",
        "\n",
        "present_value = future_value / (1.0 + rate)**years\n",
        "\n",
        "print(f'You will need to deposit this amount ${present_value:,.2f}.')\n",
        "\n",
        "\n",
        "\n",
        "\n",
        "\n",
        "\n"
      ],
      "execution_count": null,
      "outputs": [
        {
          "output_type": "stream",
          "text": [
            "Enter the desired future value: 50000\n",
            "Enter the annual interest rate: 0.3\n",
            "Enter the number of years the money will grow: 5\n",
            "You will need to deposit this amount $13,466.45.\n",
            "$36,533.55.\n"
          ],
          "name": "stdout"
        }
      ]
    },
    {
      "cell_type": "markdown",
      "metadata": {
        "id": "NxOS8Ld42n2r",
        "colab_type": "text"
      },
      "source": [
        ""
      ]
    },
    {
      "cell_type": "markdown",
      "metadata": {
        "id": "H5gVlMq1l8Zc",
        "colab_type": "text"
      },
      "source": [
        ""
      ]
    },
    {
      "cell_type": "markdown",
      "metadata": {
        "id": "mf8OGur92xgw",
        "colab_type": "text"
      },
      "source": [
        "This section calculates how much your money would grow if invest a certain amount of money. It uses the formula PV (1 + r)^years = FV to calculate the final amount of your investment. To find how much your money grew subtract present value from future value.\n"
      ]
    },
    {
      "cell_type": "code",
      "metadata": {
        "colab_type": "code",
        "id": "A3fNtGEA0KH9",
        "colab": {
          "base_uri": "https://localhost:8080/",
          "height": 85
        },
        "outputId": "6f05f2ec-e1ba-4007-9a26-78b04ccdaeb4"
      },
      "source": [
        "present_value = float(input('Enter the desired present value: '))\n",
        "rate = float(input('Enter the annual interest rate: '))\n",
        "years = int(input('Enter the number of years the money will grow: '))\n",
        "\n",
        "future_value = present_value * (1.0 + rate)**years\n",
        "difference = future_value - present_value\n",
        "print(f'${difference:,.2f}')\n",
        "\n",
        "\n",
        "\n",
        "\n",
        "\n"
      ],
      "execution_count": 11,
      "outputs": [
        {
          "output_type": "stream",
          "text": [
            "Enter the desired present value: 50000\n",
            "Enter the annual interest rate: 0.3\n",
            "Enter the number of years the money will grow: 6\n",
            "$191,340.45.\n"
          ],
          "name": "stdout"
        }
      ]
    },
    {
      "cell_type": "markdown",
      "metadata": {
        "id": "mNMB7SIMmAcS",
        "colab_type": "text"
      },
      "source": [
        ""
      ]
    },
    {
      "cell_type": "markdown",
      "metadata": {
        "id": "-OkJG0Lclcqp",
        "colab_type": "text"
      },
      "source": [
        ""
      ]
    },
    {
      "cell_type": "markdown",
      "metadata": {
        "id": "xtNuQvQHlaAu",
        "colab_type": "text"
      },
      "source": [
        ""
      ]
    },
    {
      "cell_type": "markdown",
      "metadata": {
        "id": "ElqU76SylW_X",
        "colab_type": "text"
      },
      "source": [
        ""
      ]
    },
    {
      "cell_type": "markdown",
      "metadata": {
        "id": "N8h5VAW5lReb",
        "colab_type": "text"
      },
      "source": [
        ""
      ]
    }
  ]
}